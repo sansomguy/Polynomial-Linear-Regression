{
 "cells": [
  {
   "cell_type": "markdown",
   "metadata": {},
   "source": [
    "# Python Polynomial Linear Regression\n",
    "\n",
    "Here I am attempting to create a polynomial regressor for a dataset, and I will outlay my reasons for choosing a specific polynomial degree.\n",
    "\n",
    "**This is a preformatted text space**"
   ]
  },
  {
   "cell_type": "markdown",
   "metadata": {},
   "source": [
    "### Preprocess data"
   ]
  },
  {
   "cell_type": "code",
   "execution_count": 1,
   "metadata": {},
   "outputs": [],
   "source": [
    "import numpy as np;\n",
    "import random;\n",
    "\n",
    "\n",
    "#['Position','Level','Salary']\n",
    "position_salaries=[\n",
    "    ['Business Analyst',1,45000],\n",
    "    ['Junior Consultant',2,50000],\n",
    "    ['Senior Consultant',3,60000],\n",
    "    ['Manager',4,80000],\n",
    "    ['Country Manager',5,110000],\n",
    "    ['Region Manager',6,150000],\n",
    "    ['Partner',7,200000],\n",
    "    ['Senior Partner',8,300000],\n",
    "    ['C-level',9,500000],\n",
    "    ['CEO',10,1000000]\n",
    "];\n",
    "\n",
    "# Make sure we randomise so that our training and testing data has no sampling bias\n",
    "random.shuffle(position_salaries);"
   ]
  },
  {
   "cell_type": "markdown",
   "metadata": {},
   "source": [
    "### Convert to polynomial dataset\n",
    "\n",
    "In order to perform polynomial regression we need to add extra exponential increases of the X values to our dataset."
   ]
  },
  {
   "cell_type": "code",
   "execution_count": 2,
   "metadata": {},
   "outputs": [],
   "source": [
    "# The input space is the 'Level' of employee\n",
    "X = [row[1][1] for row in enumerate(position_salaries)]\n",
    "# The output space is the salary of the employee\n",
    "Y = [row[1][2] for row in enumerate(position_salaries)]\n",
    "\n",
    "\n",
    "# Convert the X values into many dimensions where each dimension represents an x value raised to some degree\n",
    "# we are only going to raise to 3rd degree polynonials however, just to keep things simple\n",
    "# notice that we are also including value**0, this is because we are including a **constant** or y-intercept\n",
    "# which should increase accuracy as well.\n",
    "def get_polynomial_dataset(X, degree=1, include_bias=True):\n",
    "    return [get_raised_set(value[1], degree, include_bias) for value in enumerate(X)];\n",
    "\n",
    "def get_raised_set(X, degree, include_bias = False):\n",
    "        transformed_set = [X**(d+1) for d in range(degree)];     \n",
    "\n",
    "        if(include_bias):\n",
    "            transformed_set.append(1);\n",
    "\n",
    "        return transformed_set;"
   ]
  },
  {
   "cell_type": "markdown",
   "metadata": {},
   "source": [
    "### Split into Test and Training data\n",
    "So far we have mapped some data into our training and testing data object.\n",
    "\n",
    "We have some **Y** which are our output values for which we are trying to estimate.\n",
    "\n",
    "We also have our **X** values which are the \"features\" that we hope to use to model our ouputs.\n",
    "\n",
    "We now need to create the following groups:\n",
    "* Training\n",
    "* Testing\n",
    "\n",
    "We need the testing set of data to ensure that we are not overfitting our model to the testing data, and that we are able to properly generalize for cases outside of the testing data.\n",
    "\n",
    "*Later on we will cross validate and ensure that we are choosing the correct capacity [also known as degree] for our polynomial regression*"
   ]
  },
  {
   "cell_type": "code",
   "execution_count": 25,
   "metadata": {},
   "outputs": [],
   "source": [
    "# get train \n",
    "def get_train_x(X):\n",
    "    return X;\n",
    "\n",
    "def get_train_y(Y):\n",
    "    return Y;\n",
    "\n",
    "def get_test_y(Y):\n",
    "    return Y;\n",
    "\n",
    "def get_test_x(X):\n",
    "    return X;\n",
    "\n",
    "# split up the training and testing data 80/20\n",
    "def get_train_test_data(X,Y):\n",
    "    return [\n",
    "        get_train_x(X), # training data\n",
    "        get_test_x(X), # test\n",
    "        get_train_y(Y), # training\n",
    "        get_test_y(Y)  # test\n",
    "    ];"
   ]
  },
  {
   "cell_type": "markdown",
   "metadata": {},
   "source": [
    "### Create learning function\n",
    "\n",
    "Create a simple gradient descent function for minimizing loss of our training set.\n",
    "\n",
    "Here is our loss function that we are trying to minimize.\n",
    "\n",
    "```loss = 1/size_of_training_set * Sum(((transposed_weights * x) - y)^2)```\n",
    "\n",
    "This is how we could calculate the udpated gradients for weights with respect to all the dimensions of X (*'wieght_d'* is the coefficient for dimension d, _'xi'_ = row of x, _'xd'_ is the dimension of x).\n",
    "\n",
    "```weight_d = weight_d - learning_rate*xd*(y - xi * weight_i)```"
   ]
  },
  {
   "cell_type": "code",
   "execution_count": 26,
   "metadata": {},
   "outputs": [],
   "source": [
    "# get the loss measure\n",
    "def get_loss(w, x, y):\n",
    "    # Divide by the total size of the data to get the average\n",
    "    return get_sum_sqaured_error(w, x, y)/len(y)\n",
    "\n",
    "def get_sum_sqaured_error(w,x,y):\n",
    "    error = 0;\n",
    "    for index, row in enumerate(x):\n",
    "        error = error + get_error(w,row,y[index])**2;\n",
    "    return error;\n",
    "\n",
    "def get_error(w, x, y):\n",
    "    return y - np.dot(w, x);\n",
    "\n",
    "def get_gradient(w,x,y, data_size = 1):\n",
    "    error = get_error(w,x,y);\n",
    "    return (-2/data_size)*error;\n",
    "\n",
    "#update the gradient for all coefficients for some coordinate set\n",
    "def update_gradients(w, x, y, learning_rate):\n",
    "    updated_gradients = np.zeros(len(x[0]));\n",
    "    current_gradients = w;\n",
    "    data_size = len(y);\n",
    "    for i,row in enumerate(x):\n",
    "        gradient = get_gradient(current_gradients,row,y[i], data_size);\n",
    "        for j, coefficient in enumerate(w):\n",
    "            updated_gradients[j] += row[j]*gradient;\n",
    "    # update all of the coefficients at the same time\n",
    "    #learning_matrix = np.identity(len(updated_gradients))*learning_rate;\n",
    "    current_gradients = current_gradients - updated_gradients*learning_rate\n",
    "    # Return the new set of coefficients\n",
    "    return current_gradients;\n",
    "\n",
    "# Creates a model using linear regression for a set of Xs, and Ys\n",
    "# Also plots the loss over time and validates against the test data\n",
    "def polynomial_linear_regression(x, y, step_size = 0.01):\n",
    "    iterations = int(1/step_size) # number of iterations should be inversely proportional to the step size\n",
    "    learning_rate = step_size\n",
    "    model = np.ones(len(x[0]));\n",
    "    \n",
    "    for iteration in range(iterations):\n",
    "        model = update_gradients(model, x, y, learning_rate);\n",
    "    return model;"
   ]
  },
  {
   "cell_type": "markdown",
   "metadata": {},
   "source": [
    "### Map out the Generalization Error"
   ]
  },
  {
   "cell_type": "code",
   "execution_count": 27,
   "metadata": {},
   "outputs": [],
   "source": [
    "import matplotlib.pyplot as plt;\n",
    "\n",
    "\n",
    "def fx(X, degree, include_bias, model):\n",
    "    x = get_raised_set(X, degree, include_bias);\n",
    "    return np.dot(np.transpose(model), x);\n",
    "\n",
    "def plot_polynomial_regression_degree(degree=1, include_bias=True):\n",
    "    step_size = 1/10**(2*degree) # step_size should be inversely proportional to the degree of the polynomial\n",
    "    d_x = get_polynomial_dataset(X, degree, include_bias);\n",
    "    d_data = get_train_test_data(d_x, Y);\n",
    "\n",
    "    d_x_train = d_data[0];\n",
    "    d_x_test = d_data[1];\n",
    "\n",
    "    d_y_train = d_data[2];\n",
    "    d_y_test = d_data[3];\n",
    "\n",
    "    d_model = polynomial_linear_regression(d_x_train, d_y_train, step_size)\n",
    "    x_train = get_train_x(X);\n",
    "    x_train.sort();\n",
    "    d_y_train.sort();\n",
    "    plt.plot(x_train, d_y_train, 'ro-');\n",
    "    x = np.linspace(0, 12, 1000);\n",
    "    plt.plot(x, [fx(x, degree, include_bias, d_model) for index,x in enumerate(x)], 'go-');\n",
    "    plt.xlim(0, 12);\n",
    "    plt.ylim(0, 1000000);\n",
    "    plt.show()"
   ]
  },
  {
   "cell_type": "markdown",
   "metadata": {},
   "source": [
    "### Create Compare Different Degrees\n",
    "\n",
    "**First Degree Polynomial Linear Regression (with bias)**"
   ]
  },
  {
   "cell_type": "code",
   "execution_count": 28,
   "metadata": {
    "scrolled": true
   },
   "outputs": [
    {
     "data": {
      "image/png": "[encoded data removed]",
      "text/plain": [
       "<matplotlib.figure.Figure at 0x2deb2ac9ba8>"
      ]
     },
     "metadata": {},
     "output_type": "display_data"
    }
   ],
   "source": [
    "plot_polynomial_regression_degree(1, include_bias=True);"
   ]
  },
  {
   "cell_type": "markdown",
   "metadata": {},
   "source": [
    "**Second Degree Polynomial (with bias)**"
   ]
  },
  {
   "cell_type": "code",
   "execution_count": 29,
   "metadata": {},
   "outputs": [
    {
     "data": {
      "image/png": "[encoded data removed]",
      "text/plain": [
       "<matplotlib.figure.Figure at 0x2deb03bdb70>"
      ]
     },
     "metadata": {},
     "output_type": "display_data"
    }
   ],
   "source": [
    "plot_polynomial_regression_degree(2, include_bias=True);"
   ]
  },
  {
   "cell_type": "markdown",
   "metadata": {},
   "source": [
    "**Third Degree Polynomial (with bias)**"
   ]
  },
  {
   "cell_type": "code",
   "execution_count": 30,
   "metadata": {},
   "outputs": [
    {
     "data": {
      "image/png": "[encoded data removed]",
      "text/plain": [
       "<matplotlib.figure.Figure at 0x2deb2972c88>"
      ]
     },
     "metadata": {},
     "output_type": "display_data"
    }
   ],
   "source": [
    "plot_polynomial_regression_degree(3,True);"
   ]
  },
  {
   "cell_type": "code",
   "execution_count": null,
   "metadata": {},
   "outputs": [],
   "source": []
  }
 ],
 "metadata": {
  "kernelspec": {
   "display_name": "Python 3",
   "language": "python",
   "name": "python3"
  },
  "language_info": {
   "codemirror_mode": {
    "name": "ipython",
    "version": 3
   },
   "file_extension": ".py",
   "mimetype": "text/x-python",
   "name": "python",
   "nbconvert_exporter": "python",
   "pygments_lexer": "ipython3",
   "version": "3.6.4"
  }
 },
 "nbformat": 4,
 "nbformat_minor": 2
}
